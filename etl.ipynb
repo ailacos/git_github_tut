{
 "cells": [
  {
   "cell_type": "markdown",
   "metadata": {},
   "source": [
    "Python Extrac Transform Load "
   ]
  },
  {
   "cell_type": "code",
   "execution_count": 2,
   "metadata": {},
   "outputs": [],
   "source": [
    "# import mainly libraries\n",
    "import requests\n",
    "import numpy as np\n",
    "import matplotlib.pyplot as plt\n",
    "import math as mt\n",
    "import pandas as pd\n",
    "from sqlalchemy import create_engine"
   ]
  },
  {
   "cell_type": "code",
   "execution_count": 3,
   "metadata": {},
   "outputs": [],
   "source": [
    "def extract()->dict:\n",
    "  \"\"\"\n",
    "  This API extracts data from \n",
    "  http://universities.hipolabs.com/search?country=United+States\n",
    "  \"\"\"\n",
    "  API_URL = \"http://universities.hipolabs.com/search?country=United+States\"\n",
    "  data = requests.get(API_URL).json()\n",
    "  return data\n"
   ]
  },
  {
   "cell_type": "code",
   "execution_count": 4,
   "metadata": {},
   "outputs": [],
   "source": [
    "def transform(data:dict) -> pd.DataFrame:\n",
    "  df = pd.DataFrame(data)\n",
    "  print(f\"Total number of unioversities from API {len(data)}\")\n",
    "  df = df[df[\"name\"].str.contains(\"California\")]\n",
    "  print(f\"Number of universities in California {len(df)}\")\n",
    "  df['domains'] = [','.join(map(str,l)) for l in df['domains']]\n",
    "  df['web_pages'] = [','.join(map(str,l)) for l in df['web_pages']]\n",
    "  df = df.reset_index(drop=True)\n",
    "  return df[[\"domains\",\"country\",\"web_pages\",\"name\"]]\n"
   ]
  },
  {
   "cell_type": "code",
   "execution_count": 5,
   "metadata": {},
   "outputs": [],
   "source": [
    "def load(df:pd.DataFrame)-> None:\n",
    "  disk_engine = create_engine('sqlite:///my_lite_store.db')\n",
    "  df.to_sql('cal_uni', disk_engine,if_exists='replace')"
   ]
  },
  {
   "cell_type": "code",
   "execution_count": 13,
   "metadata": {},
   "outputs": [
    {
     "name": "stdout",
     "output_type": "stream",
     "text": [
      "Total number of unioversities from API 2334\n",
      "Number of universities in California 44\n",
      "                                          name                   web_pages\n",
      "0  California State University Channel Islands      https://www.csuci.edu/\n",
      "1                California Baptist University  http://www.calbaptist.edu/\n"
     ]
    }
   ],
   "source": [
    "data  = extract()\n",
    "df = transform(data)\n",
    "load(df)\n",
    "#print(df[['name','web_pages']].head(2).align(df,join='right'))\n",
    "print(df[['name','web_pages']].head(2))"
   ]
  },
  {
   "cell_type": "code",
   "execution_count": 9,
   "metadata": {},
   "outputs": [
    {
     "name": "stdout",
     "output_type": "stream",
     "text": [
      "Help on method align in module pandas.core.frame:\n",
      "\n",
      "align(other, join='outer', axis=None, level=None, copy=True, fill_value=None, method=None, limit=None, fill_axis=0, broadcast_axis=None) -> 'DataFrame' method of pandas.core.frame.DataFrame instance\n",
      "    Align two objects on their axes with the specified join method.\n",
      "    \n",
      "    Join method is specified for each axis Index.\n",
      "    \n",
      "    Parameters\n",
      "    ----------\n",
      "    other : DataFrame or Series\n",
      "    join : {'outer', 'inner', 'left', 'right'}, default 'outer'\n",
      "    axis : allowed axis of the other object, default None\n",
      "        Align on index (0), columns (1), or both (None).\n",
      "    level : int or level name, default None\n",
      "        Broadcast across a level, matching Index values on the\n",
      "        passed MultiIndex level.\n",
      "    copy : bool, default True\n",
      "        Always returns new objects. If copy=False and no reindexing is\n",
      "        required then original objects are returned.\n",
      "    fill_value : scalar, default np.NaN\n",
      "        Value to use for missing values. Defaults to NaN, but can be any\n",
      "        \"compatible\" value.\n",
      "    method : {'backfill', 'bfill', 'pad', 'ffill', None}, default None\n",
      "        Method to use for filling holes in reindexed Series:\n",
      "    \n",
      "        - pad / ffill: propagate last valid observation forward to next valid.\n",
      "        - backfill / bfill: use NEXT valid observation to fill gap.\n",
      "    \n",
      "    limit : int, default None\n",
      "        If method is specified, this is the maximum number of consecutive\n",
      "        NaN values to forward/backward fill. In other words, if there is\n",
      "        a gap with more than this number of consecutive NaNs, it will only\n",
      "        be partially filled. If method is not specified, this is the\n",
      "        maximum number of entries along the entire axis where NaNs will be\n",
      "        filled. Must be greater than 0 if not None.\n",
      "    fill_axis : {0 or 'index', 1 or 'columns'}, default 0\n",
      "        Filling axis, method and limit.\n",
      "    broadcast_axis : {0 or 'index', 1 or 'columns'}, default None\n",
      "        Broadcast values along this axis, if aligning two objects of\n",
      "        different dimensions.\n",
      "    \n",
      "    Returns\n",
      "    -------\n",
      "    (left, right) : (DataFrame, type of other)\n",
      "        Aligned objects.\n",
      "\n"
     ]
    }
   ],
   "source": [
    "help(df.align)"
   ]
  }
 ],
 "metadata": {
  "kernelspec": {
   "display_name": "Python 3",
   "language": "python",
   "name": "python3"
  },
  "language_info": {
   "codemirror_mode": {
    "name": "ipython",
    "version": 3
   },
   "file_extension": ".py",
   "mimetype": "text/x-python",
   "name": "python",
   "nbconvert_exporter": "python",
   "pygments_lexer": "ipython3",
   "version": "3.8.5"
  }
 },
 "nbformat": 4,
 "nbformat_minor": 2
}
